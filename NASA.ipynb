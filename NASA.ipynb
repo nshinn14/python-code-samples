{
 "cells": [
  {
   "cell_type": "markdown",
   "metadata": {},
   "source": [
    "# Nicholas Shinn Project 1"
   ]
  },
  {
   "cell_type": "markdown",
   "metadata": {},
   "source": [
    "# Part 1"
   ]
  },
  {
   "cell_type": "markdown",
   "metadata": {},
   "source": [
    "## Step 1:"
   ]
  },
  {
   "cell_type": "code",
   "execution_count": 1,
   "metadata": {
    "collapsed": true
   },
   "source": [
    "import requests\n",
    "from bs4 import BeautifulSoup\n",
    "import numpy as np\n",
    "import pandas as pd\n",
    "from time import mktime\n",
    "from datetime import datetime\n",
    "import re\n",
    "\n",
    "r = requests.get('https://www.spaceweatherlive.com/en/solar-activity/top-50-solar-flares')\n",
    "soup = BeautifulSoup(r.content, 'html5lib')\n",
    "soup.prettify()\n",
    "\n",
    "table = soup.find('table')\n",
    "data = pd.read_html(str(table),flavor='html5lib')\n",
    "\n",
    "df = {'rank':[], 'x_class': [], 'date': [], 'region': [], 'start_time': [], 'max_time': [], 'end_time': [], 'movie': []}\n",
    "\n",
    "rows = table.find_all('td')\n",
    "\n",
    "for i in range(0,len(rows)):\n",
    "    if (i == 0 or i % 8 == 0):\n",
    "        df['rank'].append(rows[i].get_text())\n",
    "    elif (i % 8 == 1):\n",
    "        df['x_class'].append(rows[i].get_text())\n",
    "    elif (i % 8 == 2):\n",
    "        df['date'].append(rows[i].get_text())\n",
    "    elif (i % 8 == 3):\n",
    "        df['region'].append(rows[i].get_text())\n",
    "    elif (i % 8 == 4):\n",
    "        df['start_time'].append(rows[i].get_text())\n",
    "    elif (i % 8 == 5):\n",
    "        df['max_time'].append(rows[i].get_text())\n",
    "    elif (i % 8 == 6):\n",
    "        df['end_time'].append(rows[i].get_text())\n",
    "    else:\n",
    "        df['movie'].append(rows[i].get_text())\n",
    "    \n",
    "data_frame = pd.DataFrame(df, columns = ['rank', 'x_class', 'date', 'region', 'start_time', 'max_time', 'end_time', 'movie'])\n",
    "data_frame.index = np.arange(1, len(data_frame)+1)\n",
    "data_frame"
   ]
  },
  {
   "cell_type": "markdown",
   "metadata": {},
   "source": [
    "This portion of the code first utilizes beautiful soup 4 and pandas to retrieve the html of the website given. Then using the find() function the table with the top 50 solar flares was read into pandas in order to parse the data out of the html text. Because each row has 8 data attributes, I utilized modulo to distribute each line of data into a data frame with preset columns."
   ]
  },
  {
   "cell_type": "markdown",
   "metadata": {},
   "source": [
    "## Step 2:"
   ]
  },
  {
   "cell_type": "code",
   "execution_count": 2,
   "metadata": {
      "collapsed": true
      },
   "source": [
    "data_frame.drop('movie', 1, inplace = True)\n",
    "for i, r in data_frame.iterrows():\n",
    "    data_frame.set_value(i, 'start_datetime', pd.to_datetime(r.loc['date']+' '+r.loc['start_time']))\n",
    "    data_frame.set_value(i, 'max_datetime', pd.to_datetime(r.loc['date']+' '+r.loc['max_time']))\n",
    "    data_frame.set_value(i, 'end_datetime', pd.to_datetime(r.loc['date']+' '+r.loc['end_time'])) \n",
    "data_frame.drop('date', 1, inplace = True)\n",
    "data_frame.drop('start_time', 1, inplace = True)\n",
    "data_frame.drop('max_time', 1, inplace = True)\n",
    "data_frame.drop('end_time', 1, inplace = True)\n",
    "columns = list(data_frame)\n",
    "columns.insert(len(columns)-1, columns.pop(columns.index('region')))\n",
    "data_frame"
   ]
  },
  {
   "cell_type": "markdown",
   "metadata": {
    "collapsed": true
   },
   "source": [
    "## Step 3: "
   ]
  },
  {
   "cell_type": "code",
   "execution_count": 3,
   "metadata": {
    "collapsed": true
    },
   "source": [
    "r = requests.get('https://cdaw.gsfc.nasa.gov/CME_list/radio/waves_type2.html')\n",
    "nasa = BeautifulSoup(r.content ,\"html5lib\")\n",
    "nasa.prettify()\n",
    "table = ((str(nasa).split('\\n'))[14:-4])\n",
    "data_frame_cols = ['start_date', 'start_time', 'end_date', 'end_time', 'start_frequency', 'end_frequency', 'flare_location',\n",
    "             'flare_region', 'importance', 'cme_date', 'cme_time', 'cpa', 'width', 'speed']\n",
    "nasa_data = []\n",
    "pd.set_option('display.max_columns', None)\n",
    "pd.set_option('display.max_rows', None)\n",
    "\n",
    "for i in table:\n",
    "    row = i.split()\n",
    "    if '<a' in row[4]:\n",
    "        row = row[:4] + row[5:]\n",
    "    if '<a' in row[5]:\n",
    "        row = row[:5] + row[6:]\n",
    "    if '<a' in row[9]:\n",
    "        row = row[:9] + row[10:]\n",
    "    if '<a' in row[13]:\n",
    "        row = row[:13] + row[14:]\n",
    "    if '>' in row[4]:\n",
    "        left = (row[4].index('>')+1)\n",
    "        right = (row[4].index('<'))\n",
    "        row[4] = row[4][left:right]\n",
    "    if '>' in row[5]:\n",
    "        left = (row[5].index('>')+1)\n",
    "        right = (row[5].index('<'))\n",
    "        row[5] = row[5][left:right]\n",
    "    if '>' in row[9]:\n",
    "        left = (row[9].index('>')+1)\n",
    "        right = (row[9].index('<'))\n",
    "        row[9] = row[9][left:right]\n",
    "    if '>' in row[13]:\n",
    "        left = (row[13].index('>')+1)\n",
    "        right = (row[13].index('<'))\n",
    "        row[13] = row[13][left:right]\n",
    "    row = row[:14]\n",
    "    nasa_data.extend([row])\n",
    "    \n",
    "nasa_data_frame = pd.DataFrame(nasa_data, columns = data_frame_cols)\n",
    "nasa_data_frame"
   ]
  },
  {
   "cell_type": "markdown",
   "metadata": {},
   "source": [
    "## Step 4:"
   ]
  },
  {
   "cell_type": "code",
   "execution_count": 5,
   "metadata": {
    "collapsed": true
   },
   "source": [
    "nasa_data_frame = nasa_data_frame.replace(to_replace = {'start_frequency': {'????': 'NaN'}, 'end_frequency': {'????': 'NaN'},\n",
    "                            'flare_location': {'Back|BACK|-+': 'NaN'}, 'flare_region': {'-+': 'NaN'},\n",
    "                            'flare_classification': {'-+': 'NaN'}, 'cme_date': {'--/--': 'NaN'},\n",
    "                            'cme_time': {'--:--': 'NaN'}, 'cme_angle': {'-+': 'NaN'},\n",
    "                            'cme_width': {'-+': 'NaN'}, 'cme_speed': {'-+': 'NaN'}\n",
    "                            })\n",
    "\n",
    "nasa_data_frame['is_halo'] = pd.Series('Halo'==nasa_data_frame['cpa'], index = nasa_data_frame.index)\n",
    "nasa_data_frame.loc[nasa_data_frame.cpa == 'Halo', 'cpa'] = \"NA\"\n",
    "nasa_data_frame['lower'] = pd.Series( nasa_data_frame['width'].astype(str).str[0:4].str.contains('&gt;'), index = nasa_data_frame.index)\n",
    "nasa_data_frame.loc[nasa_data_frame['width'].str.contains('&gt;'), 'width'] = (nasa_data_frame['width'].str)[4:]\n",
    "nasa_data_frame.loc[nasa_data_frame.cpa == 'Halo', 'cpa'] = \"NA\"\n",
    "\n",
    "for i, r in nasa_data_frame.iterrows():\n",
    "    \n",
    "    if r.loc['end_date'] != 'NaN':\n",
    "        nasa_data_frame.set_value(i, 'end_date', r.loc['start_date'][:5] + r.loc['end_date'])\n",
    "    if r.loc['cme_date'] != 'NaN':\n",
    "        nasa_data_frame.set_value(i, 'cme_date', r.loc['start_date'][:5] + r.loc['cme_date'])\n",
    "        \n",
    "for i, r in nasa_data_frame.iterrows():\n",
    "    \n",
    "    if r.loc['start_time'] != 'NaN' and r.loc['start_date'] != 'NaN':\n",
    "        if r.loc['start_time'] == '24:00':\n",
    "            nasa_data_frame.set_value(i, 'start_datetime', pd.to_datetime(r.loc['start_date']+' '+'00:00')+ pd.DateOffset(days=1))\n",
    "        else:\n",
    "            nasa_data_frame.set_value(i, 'start_datetime', pd.to_datetime(r.loc['start_date']+' '+r.loc['start_time']))\n",
    "    else:\n",
    "        nasa_data_frame.set_value(i, 'start_datetime', 'NaN')\n",
    "        \n",
    "    if r.loc['end_time'] != 'NaN' and r.loc['end_date'] != 'NaN':\n",
    "        if r.loc['end_time'] == '24:00':\n",
    "            nasa_data_frame.set_value(i, 'end_datetime', pd.to_datetime(r.loc['end_date']+' '+'00:00')+ pd.DateOffset(days=1))\n",
    "        else:\n",
    "            nasa_data_frame.set_value(i, 'end_datetime', pd.to_datetime(r.loc['end_date']+' '+r.loc['end_time']))\n",
    "    else:\n",
    "        dfnasa.set_value(idx, 'end_datetime', 'NaN')\n",
    "        \n",
    "    if r.loc['cme_time'] != 'NaN' and r.loc['cme_date'] != 'NaN':\n",
    "        if r.loc['cme_time'] == '24:00':\n",
    "            nasa_data_frame.set_value(i, 'cme_datetime', pd.to_datetime(r.loc['cme_date']+' '+'00:00')+ pd.DateOffset(days=1))\n",
    "        else:\n",
    "            nasa_data_frame.set_value(i, 'cme_datetime', pd.to_datetime(r.loc['cme_date']+' '+r.loc['cme_time']))\n",
    "    else:\n",
    "        nasa_data_frame.set_value(i, 'cme_datetime', 'NaN')\n",
    " \n",
    "nasa_data_frame.drop('start_time', 1, inplace = True)\n",
    "nasa_data_frame.drop('start_date', 1, inplace = True)\n",
    "nasa_data_frame.drop('end_time', 1, inplace = True)\n",
    "nasa_data_frame.drop('end_date', 1, inplace = True)\n",
    "nasa_data_frame.drop('cme_time', 1, inplace = True)\n",
    "nasa_data_frame.drop('cme_date', 1, inplace = True)\n",
    "\n",
    "nasa_data_columns = nasa_data_frame.columns.tolist()\n",
    "nasa_data_columns = nasa_data_columns[-3:-1]+nasa_data_columns[:-8]+nasa_data_columns[-1:]+nasa_data_columns[-8:-3]\n",
    "nasa_data_frame = nasa_data_frame[nasa_data_columns]\n",
    "nasa_data_frame"
   ]
  }
 ],
 "metadata": {
  "kernelspec": {
   "display_name": "Python 3",
   "language": "python",
   "name": "python3"
  },
  "language_info": {
   "codemirror_mode": {
    "name": "ipython",
    "version": 3
   },
   "file_extension": ".py",
   "mimetype": "text/x-python",
   "name": "python",
   "nbconvert_exporter": "python",
   "pygments_lexer": "ipython3",
   "version": "3.6.2"
  }
 },
 "nbformat": 4,
 "nbformat_minor": 2
}
